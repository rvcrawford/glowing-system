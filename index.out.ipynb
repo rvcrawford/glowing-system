{
 "cells": [
  {
   "cell_type": "markdown",
   "metadata": {},
   "source": [
    "# Near Infrared Spectroscopy Predicts Percentage Crude Protein in Hemp\n",
    "\n",
    "Grain\n",
    "\n",
    "Ryan V. Crawford [![](data:image/png;base64,iVBORw0KGgoAAAANSUhEUgAAABAAAAAQCAYAAAAf8/9hAAAAGXRFWHRTb2Z0d2FyZQBBZG9iZSBJbWFnZVJlYWR5ccllPAAAA2ZpVFh0WE1MOmNvbS5hZG9iZS54bXAAAAAAADw/eHBhY2tldCBiZWdpbj0i77u/IiBpZD0iVzVNME1wQ2VoaUh6cmVTek5UY3prYzlkIj8+IDx4OnhtcG1ldGEgeG1sbnM6eD0iYWRvYmU6bnM6bWV0YS8iIHg6eG1wdGs9IkFkb2JlIFhNUCBDb3JlIDUuMC1jMDYwIDYxLjEzNDc3NywgMjAxMC8wMi8xMi0xNzozMjowMCAgICAgICAgIj4gPHJkZjpSREYgeG1sbnM6cmRmPSJodHRwOi8vd3d3LnczLm9yZy8xOTk5LzAyLzIyLXJkZi1zeW50YXgtbnMjIj4gPHJkZjpEZXNjcmlwdGlvbiByZGY6YWJvdXQ9IiIgeG1sbnM6eG1wTU09Imh0dHA6Ly9ucy5hZG9iZS5jb20veGFwLzEuMC9tbS8iIHhtbG5zOnN0UmVmPSJodHRwOi8vbnMuYWRvYmUuY29tL3hhcC8xLjAvc1R5cGUvUmVzb3VyY2VSZWYjIiB4bWxuczp4bXA9Imh0dHA6Ly9ucy5hZG9iZS5jb20veGFwLzEuMC8iIHhtcE1NOk9yaWdpbmFsRG9jdW1lbnRJRD0ieG1wLmRpZDo1N0NEMjA4MDI1MjA2ODExOTk0QzkzNTEzRjZEQTg1NyIgeG1wTU06RG9jdW1lbnRJRD0ieG1wLmRpZDozM0NDOEJGNEZGNTcxMUUxODdBOEVCODg2RjdCQ0QwOSIgeG1wTU06SW5zdGFuY2VJRD0ieG1wLmlpZDozM0NDOEJGM0ZGNTcxMUUxODdBOEVCODg2RjdCQ0QwOSIgeG1wOkNyZWF0b3JUb29sPSJBZG9iZSBQaG90b3Nob3AgQ1M1IE1hY2ludG9zaCI+IDx4bXBNTTpEZXJpdmVkRnJvbSBzdFJlZjppbnN0YW5jZUlEPSJ4bXAuaWlkOkZDN0YxMTc0MDcyMDY4MTE5NUZFRDc5MUM2MUUwNEREIiBzdFJlZjpkb2N1bWVudElEPSJ4bXAuZGlkOjU3Q0QyMDgwMjUyMDY4MTE5OTRDOTM1MTNGNkRBODU3Ii8+IDwvcmRmOkRlc2NyaXB0aW9uPiA8L3JkZjpSREY+IDwveDp4bXBtZXRhPiA8P3hwYWNrZXQgZW5kPSJyIj8+84NovQAAAR1JREFUeNpiZEADy85ZJgCpeCB2QJM6AMQLo4yOL0AWZETSqACk1gOxAQN+cAGIA4EGPQBxmJA0nwdpjjQ8xqArmczw5tMHXAaALDgP1QMxAGqzAAPxQACqh4ER6uf5MBlkm0X4EGayMfMw/Pr7Bd2gRBZogMFBrv01hisv5jLsv9nLAPIOMnjy8RDDyYctyAbFM2EJbRQw+aAWw/LzVgx7b+cwCHKqMhjJFCBLOzAR6+lXX84xnHjYyqAo5IUizkRCwIENQQckGSDGY4TVgAPEaraQr2a4/24bSuoExcJCfAEJihXkWDj3ZAKy9EJGaEo8T0QSxkjSwORsCAuDQCD+QILmD1A9kECEZgxDaEZhICIzGcIyEyOl2RkgwAAhkmC+eAm0TAAAAABJRU5ErkJggg==)](https://orcid.org/0009-0006-3052-3269) (Cornell University)  \n",
    "Jamie Crawford (Cornell University)  \n",
    "Julie L. Hansen [![](data:image/png;base64,iVBORw0KGgoAAAANSUhEUgAAABAAAAAQCAYAAAAf8/9hAAAAGXRFWHRTb2Z0d2FyZQBBZG9iZSBJbWFnZVJlYWR5ccllPAAAA2ZpVFh0WE1MOmNvbS5hZG9iZS54bXAAAAAAADw/eHBhY2tldCBiZWdpbj0i77u/IiBpZD0iVzVNME1wQ2VoaUh6cmVTek5UY3prYzlkIj8+IDx4OnhtcG1ldGEgeG1sbnM6eD0iYWRvYmU6bnM6bWV0YS8iIHg6eG1wdGs9IkFkb2JlIFhNUCBDb3JlIDUuMC1jMDYwIDYxLjEzNDc3NywgMjAxMC8wMi8xMi0xNzozMjowMCAgICAgICAgIj4gPHJkZjpSREYgeG1sbnM6cmRmPSJodHRwOi8vd3d3LnczLm9yZy8xOTk5LzAyLzIyLXJkZi1zeW50YXgtbnMjIj4gPHJkZjpEZXNjcmlwdGlvbiByZGY6YWJvdXQ9IiIgeG1sbnM6eG1wTU09Imh0dHA6Ly9ucy5hZG9iZS5jb20veGFwLzEuMC9tbS8iIHhtbG5zOnN0UmVmPSJodHRwOi8vbnMuYWRvYmUuY29tL3hhcC8xLjAvc1R5cGUvUmVzb3VyY2VSZWYjIiB4bWxuczp4bXA9Imh0dHA6Ly9ucy5hZG9iZS5jb20veGFwLzEuMC8iIHhtcE1NOk9yaWdpbmFsRG9jdW1lbnRJRD0ieG1wLmRpZDo1N0NEMjA4MDI1MjA2ODExOTk0QzkzNTEzRjZEQTg1NyIgeG1wTU06RG9jdW1lbnRJRD0ieG1wLmRpZDozM0NDOEJGNEZGNTcxMUUxODdBOEVCODg2RjdCQ0QwOSIgeG1wTU06SW5zdGFuY2VJRD0ieG1wLmlpZDozM0NDOEJGM0ZGNTcxMUUxODdBOEVCODg2RjdCQ0QwOSIgeG1wOkNyZWF0b3JUb29sPSJBZG9iZSBQaG90b3Nob3AgQ1M1IE1hY2ludG9zaCI+IDx4bXBNTTpEZXJpdmVkRnJvbSBzdFJlZjppbnN0YW5jZUlEPSJ4bXAuaWlkOkZDN0YxMTc0MDcyMDY4MTE5NUZFRDc5MUM2MUUwNEREIiBzdFJlZjpkb2N1bWVudElEPSJ4bXAuZGlkOjU3Q0QyMDgwMjUyMDY4MTE5OTRDOTM1MTNGNkRBODU3Ii8+IDwvcmRmOkRlc2NyaXB0aW9uPiA8L3JkZjpSREY+IDwveDp4bXBtZXRhPiA8P3hwYWNrZXQgZW5kPSJyIj8+84NovQAAAR1JREFUeNpiZEADy85ZJgCpeCB2QJM6AMQLo4yOL0AWZETSqACk1gOxAQN+cAGIA4EGPQBxmJA0nwdpjjQ8xqArmczw5tMHXAaALDgP1QMxAGqzAAPxQACqh4ER6uf5MBlkm0X4EGayMfMw/Pr7Bd2gRBZogMFBrv01hisv5jLsv9nLAPIOMnjy8RDDyYctyAbFM2EJbRQw+aAWw/LzVgx7b+cwCHKqMhjJFCBLOzAR6+lXX84xnHjYyqAo5IUizkRCwIENQQckGSDGY4TVgAPEaraQr2a4/24bSuoExcJCfAEJihXkWDj3ZAKy9EJGaEo8T0QSxkjSwORsCAuDQCD+QILmD1A9kECEZgxDaEZhICIzGcIyEyOl2RkgwAAhkmC+eAm0TAAAAABJRU5ErkJggg==)](https://orcid.org/0000-0001-7247-9186) (Cornell University)  \n",
    "Lawrence B. Smart [![](data:image/png;base64,iVBORw0KGgoAAAANSUhEUgAAABAAAAAQCAYAAAAf8/9hAAAAGXRFWHRTb2Z0d2FyZQBBZG9iZSBJbWFnZVJlYWR5ccllPAAAA2ZpVFh0WE1MOmNvbS5hZG9iZS54bXAAAAAAADw/eHBhY2tldCBiZWdpbj0i77u/IiBpZD0iVzVNME1wQ2VoaUh6cmVTek5UY3prYzlkIj8+IDx4OnhtcG1ldGEgeG1sbnM6eD0iYWRvYmU6bnM6bWV0YS8iIHg6eG1wdGs9IkFkb2JlIFhNUCBDb3JlIDUuMC1jMDYwIDYxLjEzNDc3NywgMjAxMC8wMi8xMi0xNzozMjowMCAgICAgICAgIj4gPHJkZjpSREYgeG1sbnM6cmRmPSJodHRwOi8vd3d3LnczLm9yZy8xOTk5LzAyLzIyLXJkZi1zeW50YXgtbnMjIj4gPHJkZjpEZXNjcmlwdGlvbiByZGY6YWJvdXQ9IiIgeG1sbnM6eG1wTU09Imh0dHA6Ly9ucy5hZG9iZS5jb20veGFwLzEuMC9tbS8iIHhtbG5zOnN0UmVmPSJodHRwOi8vbnMuYWRvYmUuY29tL3hhcC8xLjAvc1R5cGUvUmVzb3VyY2VSZWYjIiB4bWxuczp4bXA9Imh0dHA6Ly9ucy5hZG9iZS5jb20veGFwLzEuMC8iIHhtcE1NOk9yaWdpbmFsRG9jdW1lbnRJRD0ieG1wLmRpZDo1N0NEMjA4MDI1MjA2ODExOTk0QzkzNTEzRjZEQTg1NyIgeG1wTU06RG9jdW1lbnRJRD0ieG1wLmRpZDozM0NDOEJGNEZGNTcxMUUxODdBOEVCODg2RjdCQ0QwOSIgeG1wTU06SW5zdGFuY2VJRD0ieG1wLmlpZDozM0NDOEJGM0ZGNTcxMUUxODdBOEVCODg2RjdCQ0QwOSIgeG1wOkNyZWF0b3JUb29sPSJBZG9iZSBQaG90b3Nob3AgQ1M1IE1hY2ludG9zaCI+IDx4bXBNTTpEZXJpdmVkRnJvbSBzdFJlZjppbnN0YW5jZUlEPSJ4bXAuaWlkOkZDN0YxMTc0MDcyMDY4MTE5NUZFRDc5MUM2MUUwNEREIiBzdFJlZjpkb2N1bWVudElEPSJ4bXAuZGlkOjU3Q0QyMDgwMjUyMDY4MTE5OTRDOTM1MTNGNkRBODU3Ii8+IDwvcmRmOkRlc2NyaXB0aW9uPiA8L3JkZjpSREY+IDwveDp4bXBtZXRhPiA8P3hwYWNrZXQgZW5kPSJyIj8+84NovQAAAR1JREFUeNpiZEADy85ZJgCpeCB2QJM6AMQLo4yOL0AWZETSqACk1gOxAQN+cAGIA4EGPQBxmJA0nwdpjjQ8xqArmczw5tMHXAaALDgP1QMxAGqzAAPxQACqh4ER6uf5MBlkm0X4EGayMfMw/Pr7Bd2gRBZogMFBrv01hisv5jLsv9nLAPIOMnjy8RDDyYctyAbFM2EJbRQw+aAWw/LzVgx7b+cwCHKqMhjJFCBLOzAR6+lXX84xnHjYyqAo5IUizkRCwIENQQckGSDGY4TVgAPEaraQr2a4/24bSuoExcJCfAEJihXkWDj3ZAKy9EJGaEo8T0QSxkjSwORsCAuDQCD+QILmD1A9kECEZgxDaEZhICIzGcIyEyOl2RkgwAAhkmC+eAm0TAAAAABJRU5ErkJggg==)](https://orcid.org/0000-0002-7812-7736) (Cornell AgriTech)  \n",
    "Virginia Moore [![](data:image/png;base64,iVBORw0KGgoAAAANSUhEUgAAABAAAAAQCAYAAAAf8/9hAAAAGXRFWHRTb2Z0d2FyZQBBZG9iZSBJbWFnZVJlYWR5ccllPAAAA2ZpVFh0WE1MOmNvbS5hZG9iZS54bXAAAAAAADw/eHBhY2tldCBiZWdpbj0i77u/IiBpZD0iVzVNME1wQ2VoaUh6cmVTek5UY3prYzlkIj8+IDx4OnhtcG1ldGEgeG1sbnM6eD0iYWRvYmU6bnM6bWV0YS8iIHg6eG1wdGs9IkFkb2JlIFhNUCBDb3JlIDUuMC1jMDYwIDYxLjEzNDc3NywgMjAxMC8wMi8xMi0xNzozMjowMCAgICAgICAgIj4gPHJkZjpSREYgeG1sbnM6cmRmPSJodHRwOi8vd3d3LnczLm9yZy8xOTk5LzAyLzIyLXJkZi1zeW50YXgtbnMjIj4gPHJkZjpEZXNjcmlwdGlvbiByZGY6YWJvdXQ9IiIgeG1sbnM6eG1wTU09Imh0dHA6Ly9ucy5hZG9iZS5jb20veGFwLzEuMC9tbS8iIHhtbG5zOnN0UmVmPSJodHRwOi8vbnMuYWRvYmUuY29tL3hhcC8xLjAvc1R5cGUvUmVzb3VyY2VSZWYjIiB4bWxuczp4bXA9Imh0dHA6Ly9ucy5hZG9iZS5jb20veGFwLzEuMC8iIHhtcE1NOk9yaWdpbmFsRG9jdW1lbnRJRD0ieG1wLmRpZDo1N0NEMjA4MDI1MjA2ODExOTk0QzkzNTEzRjZEQTg1NyIgeG1wTU06RG9jdW1lbnRJRD0ieG1wLmRpZDozM0NDOEJGNEZGNTcxMUUxODdBOEVCODg2RjdCQ0QwOSIgeG1wTU06SW5zdGFuY2VJRD0ieG1wLmlpZDozM0NDOEJGM0ZGNTcxMUUxODdBOEVCODg2RjdCQ0QwOSIgeG1wOkNyZWF0b3JUb29sPSJBZG9iZSBQaG90b3Nob3AgQ1M1IE1hY2ludG9zaCI+IDx4bXBNTTpEZXJpdmVkRnJvbSBzdFJlZjppbnN0YW5jZUlEPSJ4bXAuaWlkOkZDN0YxMTc0MDcyMDY4MTE5NUZFRDc5MUM2MUUwNEREIiBzdFJlZjpkb2N1bWVudElEPSJ4bXAuZGlkOjU3Q0QyMDgwMjUyMDY4MTE5OTRDOTM1MTNGNkRBODU3Ii8+IDwvcmRmOkRlc2NyaXB0aW9uPiA8L3JkZjpSREY+IDwveDp4bXBtZXRhPiA8P3hwYWNrZXQgZW5kPSJyIj8+84NovQAAAR1JREFUeNpiZEADy85ZJgCpeCB2QJM6AMQLo4yOL0AWZETSqACk1gOxAQN+cAGIA4EGPQBxmJA0nwdpjjQ8xqArmczw5tMHXAaALDgP1QMxAGqzAAPxQACqh4ER6uf5MBlkm0X4EGayMfMw/Pr7Bd2gRBZogMFBrv01hisv5jLsv9nLAPIOMnjy8RDDyYctyAbFM2EJbRQw+aAWw/LzVgx7b+cwCHKqMhjJFCBLOzAR6+lXX84xnHjYyqAo5IUizkRCwIENQQckGSDGY4TVgAPEaraQr2a4/24bSuoExcJCfAEJihXkWDj3ZAKy9EJGaEo8T0QSxkjSwORsCAuDQCD+QILmD1A9kECEZgxDaEZhICIzGcIyEyOl2RkgwAAhkmC+eAm0TAAAAABJRU5ErkJggg==)](https://orcid.org/0000-0001-7888-3366) (Cornell University)  \n",
    "April 3, 2024\n",
    "\n",
    "Lorem ipsum dolor sit amet, consectetur adipiscing elit, sed do eiusmod tempor incididunt ut labore et dolore magna aliqua. Ut enim ad minim veniam, quis nostrud exercitation ullamco laboris nisi ut aliquip ex ea commodo consequat. Duis aute irure dolor in reprehenderit in voluptate velit esse cillum dolore eu fugiat nulla pariatur. Excepteur sint occaecat cupidatat non proident, sunt in culpa qui officia deserunt mollit anim id est laborum."
   ],
   "id": "a74e9d01-149b-43a4-8b80-bad05e66a2c2"
  },
  {
   "cell_type": "code",
   "execution_count": null,
   "metadata": {},
   "outputs": [
    {
     "output_type": "stream",
     "name": "stderr",
     "text": [
      "── Attaching core tidyverse packages ──────────────────────── tidyverse 2.0.0 ──\n",
      "✔ dplyr     1.1.4     ✔ readr     2.1.5\n",
      "✔ forcats   1.0.0     ✔ stringr   1.5.1\n",
      "✔ ggplot2   3.5.0     ✔ tibble    3.2.1\n",
      "✔ lubridate 1.9.3     ✔ tidyr     1.3.1\n",
      "✔ purrr     1.0.2     \n",
      "── Conflicts ────────────────────────────────────────── tidyverse_conflicts() ──\n",
      "✖ dplyr::filter() masks stats::filter()\n",
      "✖ dplyr::lag()    masks stats::lag()\n",
      "ℹ Use the conflicted package (<http://conflicted.r-lib.org/>) to force all conflicts to become errors"
     ]
    },
    {
     "output_type": "stream",
     "name": "stderr",
     "text": [
      "\n",
      "Attaching package: 'data.table'\n",
      "\n",
      "The following objects are masked from 'package:lubridate':\n",
      "\n",
      "    hour, isoweek, mday, minute, month, quarter, second, wday, week,\n",
      "    yday, year\n",
      "\n",
      "The following objects are masked from 'package:dplyr':\n",
      "\n",
      "    between, first, last\n",
      "\n",
      "The following object is masked from 'package:purrr':\n",
      "\n",
      "    transpose"
     ]
    },
    {
     "output_type": "stream",
     "name": "stderr",
     "text": [
      "Loading required package: lattice\n",
      "\n",
      "Attaching package: 'caret'\n",
      "\n",
      "The following object is masked from 'package:purrr':\n",
      "\n",
      "    lift"
     ]
    },
    {
     "output_type": "stream",
     "name": "stderr",
     "text": [
      "\u001b[34mprospectr version 0.2.7 -- cakes\u001b[39m\n",
      "\u001b[34mcheck the package repository at: https://github.com/l-ramirez-lopez/prospectr\u001b[39m"
     ]
    },
    {
     "output_type": "stream",
     "name": "stderr",
     "text": [
      "\n",
      "Attaching package: 'pls'\n",
      "\n",
      "The following object is masked from 'package:prospectr':\n",
      "\n",
      "    msc\n",
      "\n",
      "The following object is masked from 'package:caret':\n",
      "\n",
      "    R2\n",
      "\n",
      "The following object is masked from 'package:stats':\n",
      "\n",
      "    loadings"
     ]
    },
    {
     "output_type": "stream",
     "name": "stderr",
     "text": [
      "── Attaching packages ────────────────────────────────────── tidymodels 1.1.1 ──\n",
      "✔ broom        1.0.5      ✔ rsample      1.2.0 \n",
      "✔ dials        1.2.1      ✔ tune         1.1.2 \n",
      "✔ infer        1.0.6      ✔ workflows    1.1.4 \n",
      "✔ modeldata    1.3.0      ✔ workflowsets 1.0.1 \n",
      "✔ parsnip      1.2.0      ✔ yardstick    1.3.0 \n",
      "✔ recipes      1.0.10     \n",
      "── Conflicts ───────────────────────────────────────── tidymodels_conflicts() ──\n",
      "✖ data.table::between()    masks dplyr::between()\n",
      "✖ scales::discard()        masks purrr::discard()\n",
      "✖ dplyr::filter()          masks stats::filter()\n",
      "✖ data.table::first()      masks dplyr::first()\n",
      "✖ recipes::fixed()         masks stringr::fixed()\n",
      "✖ dplyr::lag()             masks stats::lag()\n",
      "✖ data.table::last()       masks dplyr::last()\n",
      "✖ caret::lift()            masks purrr::lift()\n",
      "✖ yardstick::precision()   masks caret::precision()\n",
      "✖ yardstick::recall()      masks caret::recall()\n",
      "✖ yardstick::sensitivity() masks caret::sensitivity()\n",
      "✖ yardstick::spec()        masks readr::spec()\n",
      "✖ yardstick::specificity() masks caret::specificity()\n",
      "✖ recipes::step()          masks stats::step()\n",
      "✖ data.table::transpose()  masks purrr::transpose()\n",
      "• Search for functions across packages at https://www.tidymodels.org/find/"
     ]
    },
    {
     "output_type": "stream",
     "name": "stderr",
     "text": [
      "\n",
      "Attaching package: 'nlme'\n",
      "\n",
      "The following object is masked from 'package:dplyr':\n",
      "\n",
      "    collapse"
     ]
    },
    {
     "output_type": "stream",
     "name": "stderr",
     "text": [
      "\n",
      "Attaching package: 'kableExtra'\n",
      "\n",
      "The following object is masked from 'package:dplyr':\n",
      "\n",
      "    group_rows"
     ]
    }
   ],
   "source": [
    "library(tidyverse)"
   ],
   "id": "d7e21a27-980c-48c6-be85-d76b449f0460"
  },
  {
   "cell_type": "markdown",
   "metadata": {},
   "source": [
    "**first draft**\n",
    "\n",
    "## 1 INTRODUCTION\n",
    "\n",
    "Hemp (Cannabis sativa L.) is an annual crop with potential uses as a source of food or feed from grain, and bast fiber or hurd from the stalk. Hemp cultivars are commonly grown for one or both purposes and a cultivar may be referred to as a grain, fiber, or dual-purpose type. Because of protein’s nutritional importance, the protein content of a grain crop is an prime consideration for researchers, producers, and consumers. Whole hemp grain typically contains approximately 20-30% protein ([Bárta et al., 2024](#ref-barta_proteomic_2024); [Callaway, 2004](#ref-callaway_hempseed_2004); [Ely & Fike, 2022](#ref-ely_industrial_2022)). Crude protein is often used as a proxy for the direct measurement of protein concentration and consists of the multiplication of nitrogen concentration by a conversion factor, often 6.25 ([Hayes, 2020](#ref-hayes_measuring_2020)). It may be expressed as a percentage (%CP).\n",
    "\n",
    "Near-infrared spectroscopy (NIRS) technology is rapid, non-destructive, and cheap. It consists of the measurement of NIR radiation reflected and absorbed from a sample (the spectra) and the relation of the spectra to laboratory values for components such as moisture, protein, fat, or fiber ([Roberts et al., 2004](#ref-roberts_near-infrared_2004)). NIRS technology has been used since the 1970’s to assess forage %CP ([Reeves, 2012](#ref-reeves_potential_2012); [Williams, 1975](#ref-williams_application_1975)). A NIRS calibration set often consists of samples from one species grown in many environments encompassing the range of expected values from the analyte or analytes ([Chadalavada et al., 2022](#ref-chadalavada_nir_2022)). Partial least squares regression (PLSR) is a typical method used in the agricultural and food sciences to relate spectra to analyte ([Roberts et al., 2004](#ref-roberts_near-infrared_2004)). PLSR calculates components that maximize covariance between predictor and response variables. PLSR uses some number of components, often selected via cross-validation, in order to fit the regression model and is commonly used in spectroscopy because it tends to work well with highly-correlated, noisy spectral data ([Wold et al., 2001](#ref-wold_pls-regression_2001)).\n",
    "\n",
    "A NIRS-scanned sample of undamaged grain may used for other purposes besides its scan or it may planted as a seed. In wheat and corn, grain protein content has been shown to be heritable ([Geyer et al., 2022](#ref-geyer_genetics_2022); [Giancaspro et al., 2019](#ref-giancaspro_genetic_2019)). This suggests (at least potentially) that NIRS technology could serve as resource to rapidly identify high %CP hemp germplasm, enabling the screening of more germplam as grain, before planting to the field, and thus enabling the efficient development of high %CP hemp grain populations.\n",
    "\n",
    "For this study, a benchtop NIR spectrometer was used to develop a model to predict %CP content based on a data set of hemp grain representing multiple years, locations, and cultivars from grain and dual-purpose hemp types using PLSR.\n",
    "\n",
    "## 2 MATERIALS AND METHODS"
   ],
   "id": "fdf24dcd-8640-4629-bb52-049b04abdb6b"
  },
  {
   "cell_type": "code",
   "execution_count": null,
   "metadata": {},
   "outputs": [],
   "source": [
    "# bckgrnd <- fread(\"./input_data/simplified_data/background_data_set.csv\") |> setDT()\n",
    "\n",
    "# spectra <- fread(\"./input_data/simplified_data/train_test_crude_protein.csv\")\n",
    "\n",
    " # bckgrnd[,in_ny:= ifelse(loc!=\"kentucky\", T, F)]\n",
    " \n",
    "# bg2 <- bckgrnd[loc!=\"kentucky\"]\n",
    "\n",
    "# extract indices of non-kentucky\n",
    "# bg_indices <- bckgrnd[loc!=\"kentucky\", which = T]\n",
    "\n",
    "# correct names in bg2--should be h-51, NOT hl-51\n",
    "\n",
    "# bg2[cultivar==\"hl-51\"]$cultivar <- \"h-51\"\n",
    "\n",
    "# check to see if i did the calc correctly\n",
    "\n",
    "# bg2[grepl(\"51\", cultivar),]\n",
    "\n",
    " #looks good \n",
    "# tab <-  table(bckgrnd$in_ny)\n",
    "\n",
    "\n",
    "# now take correct spectra filtering out stuff from KY\n",
    "\n",
    "# spectra_2 <- spectra[bg_indices]"
   ],
   "id": "40f812e8-f7cd-424e-aea0-b0524279aa57"
  },
  {
   "cell_type": "code",
   "execution_count": null,
   "metadata": {},
   "outputs": [],
   "source": [
    "# should be correct finalized data sets, \n",
    "\n",
    "# notably, switches sample 2 and 7 around\n",
    "\n",
    "full_data <- fread(\"./input_data/final_data_set/full_hemp_data.csv\")\n",
    "\n",
    "tab <-  table(full_data$in_ny)"
   ],
   "id": "a50f7939-b7a6-4f3e-aa4d-7e2738eb1977"
  },
  {
   "cell_type": "markdown",
   "metadata": {},
   "source": [
    "### 2.1 Hemp Grain Sample Background\n",
    "\n",
    "Spectral data were obtained from whole (unground) hemp grain samples, harvested at maturity, collected from 2017 - 2021 from 18 cultivar trials in New York (NY) (149 samples). Grain samples were obtained by hand sampling or mechanical harvest and were cleaned of chaff and dried at 30 C for six days in a forced-air dryer. All %CP values are as percent dry matter. In total, 149 samples from 38 cultivars were represented in the data set. Cultivars were grain or dual-purpose types and included both commercially available and experimental material.\n",
    "\n",
    "All cultivar trials were planted in randomized complete block design with each cultivar replicated four times. The 2017 data were comprised of samples from the same thirteen cultivars sampled from six NY locations. For those trials, grain was harvested from each plot individually and aggregated by cultivar within each trial. Four subsamples were drawn from each aggregated sample and scanned separately. These spectra were averaged at each 2 nm increment. All remaining samples from 2018-2021 were collected on a per-plot basis. All possible cultivars and possible locations were represented in 2017, but only a selected subset of cultivars and locations were represented in 2018-2021.\n",
    "\n",
    "### 2.2 Spectral Data Collection and Preprocessing\n",
    "\n",
    "A benchtop NIR spectrometer (FOSS/ NIR FOSS/ NIR Systems model 5000) was used to obtain the spectra (FOSS North America, Eden Prairie, MN, USA). Spectra were collected every 2 nm from 1100-2498 nm and the logarithm of reciprocal reflectance was recorded. A 1/4 rectangular sample cup (5.7 cm × 4.6 cm) was used to scan the samples.\n",
    "\n",
    "WINISI software version 1.02A (Infrasoft International, Port Matilda, PA, USA) was used to average the spectra in 2017, as well as to select samples for laboratory assay. Samples were selected according to their spectral distance from their nearest neighbor within the calibration data set with a cutoff of a distance of 0.6 H, where H is approximately equal to the squared Mahalanobis distance divided by the number of principal components used in the calculation ([Garrido-Varo et al., 2019](#ref-garrido-varo_note_2019)). Prior to selection selection, spectra were preprocessed using SNV-detrend with settings 1,4,4,1 for the derivative, gap, smooth, and smooth 2 settings respectively.\n",
    "\n",
    "### 2.3 Laboratory Validation\n",
    "\n",
    "Laboratory assays were performed by Dairy One Forage Laboratory (Ithaca, NY). For those assays, 1 mm ground samples were analyzed by combustion using a CN628 or CN928 Carbon/Nitrogen Determinator. Samples from 2017 were aggregated as described above, but the remaining samples were not aggregated.\n",
    "\n",
    "### 2.4 Model Development\n",
    "\n",
    "Training and testing sets were created by dividing the laboratory %CP values into tertiles according to their %CP in order to ensure that the range of %CP values was present in both calibration and testing sets. Within each tertile, 75% of the samples were randomly assigned to the training set and the remaining 25% were assigned to the testing set. For each training set, models were developed in the caret package using PLSR. In fitting the model, the number of components was optimized over a grid search from 1-20. Model performance was evaluated with 25 iterations of bootstrapping and minimized root mean squared error (RMSE) in selecting the number of components in the final model."
   ],
   "id": "f36d0db4-815d-430c-853e-c00fb8605680"
  },
  {
   "cell_type": "code",
   "execution_count": null,
   "metadata": {},
   "outputs": [],
   "source": [
    "preproc_key <- fread(\"./input_data/final_data_set/preprocessing_key.csv\")\n",
    "\n",
    "preproc_key[,full_name:= c(\"Raw Spectra\", \"First Derivative\", \"Second Derivative\",\"Savitzky-Golay\", \"Gap-segment Derivative\",\n",
    "                           \"Standard Normal Variate\", \"Standard Normal Variate following Savitzky-Golay\", \"Standard Normal Variate-Detrend\", \"Multiplicative Scatter Correction\")]"
   ],
   "id": "e47b50e7-c651-44dc-822e-c651b684bcce"
  },
  {
   "cell_type": "markdown",
   "metadata": {},
   "source": [
    "Initially a number of common spectral preprocessing methods were tested by creating 100 training and testing sets, as described above. Spectral data were transformed by each of the following methods: 1) first derivative, 2) Savitzky-Golay (SG) using the first derivative, third order polynomial, and a window of size 5, 3) gap-segment derivative using the first derivative, a gap of 11, and a segment size of 5, 4) standard normal variate (SNV), 5) standard normal variate following Savitzky-Golay (SNV-SG) using the same SG parameters as above, 6) SNV-detrend with second order polynomial, and 7) multiplicative scatter correction. For comparison, models were also developed using untransformed spectra.\n",
    "\n",
    "For each of these preprocessing methods, models were fit and predictions were made on the corresponding testing set. Since there were 7 preprocessing methods as well as untransformed spectra, 8 separate models were fit for each of the 100 sets. The relationship between the predicted and actual values of the test set were calculated via RMSE, coefficient of determination (R<sup>2</sup>), relative predicted deviation (RPD), and Ratio of Performance to InterQuartile distance (RPIQ), four common model assessment metrics. Larger R<sup>2</sup>, RPD and RPIQ values and smaller RMSE values are best. The answer to the question of exactly which values constitute a “good” model varies depending upon the reference consulted, but for simplicity’s sake researchers desired a model with R<sup>2</sup> \\> 0.80, an RPD greater than 2.5 and ideally greater than 3 (“good” to “excellent” quantitative prediction), and an RPIQ greater than 2.3 but ideally greater than 4.1 prediction on the testing set ([Chadalavada et al., 2022](#ref-chadalavada_nir_2022); [Luce et al., 2017](#ref-luce_prediction_2017); [Rawal et al., 2024](#ref-rawal_visible_2024)).\n",
    "\n",
    "Analyses of variance (ANOVA) were performed for each of these metrics in order to compare the preprocessing methods. For each ANOVA, each data set was considered as a subject and different variances were allowed for each preprocessing method. Once the most promising preprocessing method was identified, 1000 more training and testing sets were created and models were developed with that method. Performance on the testing sets was summarized with RMSE, R<sup>2</sup>, RPD, and RPIQ. The pattern of errors, expressed as the difference between the actual and predicted values for a given sample, was examined.\n",
    "\n",
    "### 2.5 Additional software used"
   ],
   "id": "b82511b8-924e-4fbc-862b-f5e52f07a389"
  },
  {
   "cell_type": "code",
   "execution_count": null,
   "metadata": {},
   "outputs": [
    {
     "output_type": "display_data",
     "metadata": {},
     "data": {}
    }
   ],
   "source": [
    "grateful::cite_packages(output = \"paragraph\", out.dir = \".\",pkgs = c(\"base\", \"data.table\", \"nlme\", \"tidyverse\", \"caret\", \"pls\", \"prospectr\", \"tidymodels\", \"emmeans\", \"skimr\"))"
   ],
   "id": "4700b523-863a-4611-a8cf-16274175afa4"
  },
  {
   "cell_type": "markdown",
   "metadata": {},
   "source": [
    "## 3 RESULTS AND DISCUSSION\n",
    "\n",
    "### 3.1 Laboratory assay %CP values"
   ],
   "id": "a9003a4d-4d91-4556-84cc-dba52d70e186"
  },
  {
   "cell_type": "code",
   "execution_count": null,
   "metadata": {},
   "outputs": [],
   "source": [
    "skewness <- function(x) {\n",
    "\n",
    "    n <- length(x)\n",
    "\n",
    "    mean_x <- mean(x)\n",
    "    sd_x <- sqrt(sum((x - mean_x)^2) / (n))\n",
    "\n",
    "    # z-transform x and assign to z\n",
    "    z <- (x - mean_x) / sd_x\n",
    "\n",
    "    # this is not an evaluation, the result is assigned to skewness\n",
    "    skewness <- sum(z^3) / n\n",
    "\n",
    "    # we need to evaulate skewness\n",
    "    # we could write \n",
    "    # print(skewness)\n",
    "    # or\n",
    "    # return(skewness)\n",
    "    skewness\n",
    "}"
   ],
   "id": "bda0370f-4936-4d80-a1de-1d6c035761f3"
  },
  {
   "cell_type": "markdown",
   "metadata": {},
   "source": [
    "Laboratory assay %CP values are summarized in the following table. These are similar to the range of %CP values observed in the literature, indicating an reasonable basis for a chemometric model. The %CP values are left-skewed (skewness of -0.29) and two thirds of the samples contained more than 25% CP."
   ],
   "id": "2db88c26-d7c4-4b48-9e65-590f4f460615"
  },
  {
   "cell_type": "code",
   "execution_count": null,
   "metadata": {},
   "outputs": [],
   "source": [
    "my_summary <- full_data$crude_protein |> skimr::skim()|> select(c(5:11)) |> \n",
    "  mutate_all(round, 1)\n",
    "names(my_summary) <- c(\"mean\", \"sd\", \"minimum\", \"first quartile\", \"median\", \"third quartile\", \"maximum\") |> str_to_title()\n",
    "\n",
    "knitr::kable(my_summary)"
   ],
   "id": "eb276d39-828a-43d9-863b-2c5fcb7c84da"
  },
  {
   "cell_type": "markdown",
   "metadata": {},
   "source": [
    "### 3.2 Preprocessing methods comparison"
   ],
   "id": "f363bee0-9f2d-482d-b7c5-cd00e42a487a"
  },
  {
   "cell_type": "code",
   "execution_count": null,
   "metadata": {},
   "outputs": [],
   "source": [
    "# \n",
    "multi_metric <- metric_set(rmse, rsq, rpiq, rpd)\n",
    "\n",
    "\n",
    "# read data back in to work with it\n",
    "\n",
    "prep_key <- fread(\"./input_data/final_data_set/preprocessing_key.csv\")\n",
    "\n",
    "sims_key <- fread(\"./input_data/final_data_set/preprocessing_methods_test.csv\")\n",
    "\n",
    "long_form <- merge(sims_key, prep_key, all.x = T)\n",
    "\n",
    "# now pull the metrics\n",
    "\n",
    "# long_form[, multi_metric(y, value), by = c(\"id\", \"preproc\")]\n",
    "\n",
    "summaries <- long_form |> \n",
    "  filter(preproc!=\"second_derivative\") |> \n",
    "  group_by(id, preproc) |> \n",
    "  multi_metric(y, value)\n",
    "\n",
    "# # comparing methods over a series of metrics...\n",
    "# summaries_with_models <- summaries |> \n",
    "#   mutate(id = as.character(id)) |> \n",
    "#   nest(data = -.metric) |> \n",
    "#   mutate(mod = map(data, ~lme4::lmer(.estimate ~ preproc + (1|id), data = .x)),\n",
    "#          ems = map(mod, ~emmeans::emmeans(.x, \"preproc\") |> data.frame())\n",
    "#          )\n",
    "# \n",
    "# summaries_with_models_2 <- summaries_with_models |> \n",
    "#   select(1, ems) |> \n",
    "#   unnest(ems)"
   ],
   "id": "6c2ed3a6-7ffd-4f82-82ea-5e91b24082b5"
  },
  {
   "cell_type": "code",
   "execution_count": null,
   "metadata": {},
   "outputs": [],
   "source": [
    "# actually, let's summarize via nlme\n",
    "# set our varident\n",
    "vf2 <- varIdent(form= ~ 1|preproc)\n",
    "\n",
    "# define custom contrasts\n",
    "first_part <- rep(1/7,7)\n",
    "contrast_full <- append(first_part, -1, after = 3)\n",
    "\n",
    "\n",
    "custom <- list(preprocess_vs_raw = contrast_full)\n",
    "\n",
    "nlme_summaries <- summaries |> \n",
    "  mutate(id = as.character(id)) |> \n",
    "  nest(data = -.metric) |> \n",
    "  mutate(\n",
    "    mod_standard = map(data, ~nlme::lme(.estimate ~ preproc, random = ~1|id, data = .x, method =\"ML\")),\n",
    "    \n",
    "    mod_varident = map(data, ~nlme::lme(.estimate ~ preproc, random = ~1|id, weights = vf2, data = .x, method =\"ML\")),\n",
    "    mod_compare = map2(mod_standard, mod_varident, ~anova(.x, .y)),\n",
    "         ems = map(mod_varident, ~emmeans::emmeans(.x, \"preproc\") |>multcomp::cld() |>  data.frame()), \n",
    "             ems2 = map(mod_varident, ~emmeans::emmeans(.x, \"preproc\")),\n",
    "                        contrast = map(ems2, ~emmeans::contrast(.x, custom))\n",
    "                                       )\n",
    "\n",
    "\n",
    "\n",
    "nlme_summaries_with_models_2 <- nlme_summaries |> \n",
    "  select(1, ems) |> \n",
    "  unnest(ems)"
   ],
   "id": "a77010ff-5971-4ccc-aca6-883400313e78"
  },
  {
   "cell_type": "code",
   "execution_count": null,
   "metadata": {},
   "outputs": [
    {
     "output_type": "stream",
     "name": "stderr",
     "text": [
      "Joining with `by = join_by(preproc)`"
     ]
    }
   ],
   "source": [
    "# add full names\n",
    "\n",
    "to_table <- nlme_summaries_with_models_2|> \n",
    "  left_join(preproc_key) |> \n",
    "  select('Preprocessing Method' = full_name, Metric = .metric, Estimate = emmean, SE) |> \n",
    "  mutate(Estimate = paste(format(round(Estimate, 2), nsmall = 2), \"±\", format(round(SE, 3), nsmall = 3)))"
   ],
   "id": "12a314e2-e75a-45a3-b07a-036f84af1e78"
  },
  {
   "cell_type": "code",
   "execution_count": null,
   "metadata": {},
   "outputs": [],
   "source": [
    "contrasts <- nlme_summaries |> \n",
    "  select(.metric, contrast) |> \n",
    "  transmute(.metric, tidy_contrast = map(contrast, tidy)) |> \n",
    "  unnest(tidy_contrast)"
   ],
   "id": "046d618a-abc9-4538-b195-f45df6a6a207"
  },
  {
   "cell_type": "code",
   "execution_count": null,
   "metadata": {},
   "outputs": [],
   "source": [
    "# lead_lag summaries\n",
    "lead_lag <- nlme_summaries_with_models_2 |> select(1:4) |> \n",
    "  arrange(.metric, emmean)%>% \n",
    "  group_by(.metric) |> \n",
    "  mutate(lagged = lag(emmean)) %>% \n",
    "  mutate(pct_change = (emmean - lagged) / lagged)|> \n",
    "  mutate(lead = lead(emmean)) %>% \n",
    "  mutate(pct_change_lead = (emmean - lead) / lead)"
   ],
   "id": "cd3d99f8-4066-4d3b-95d8-b31ae5e5dc86"
  },
  {
   "cell_type": "code",
   "execution_count": null,
   "metadata": {},
   "outputs": [
    {
     "output_type": "stream",
     "name": "stderr",
     "text": [
      "Joining with `by = join_by(.metric)`"
     ]
    }
   ],
   "source": [
    "# percent change for contrasts\n",
    "\n",
    "raw_contrast <- nlme_summaries_with_models_2 |> filter(preproc==\"raw\") |> \n",
    "  dplyr::select(1:3) |> \n",
    "  left_join(contrasts |> select(1,3,estimated_diff = 5)) |> \n",
    "  mutate(percent_difference = estimated_diff/(emmean+estimated_diff))"
   ],
   "id": "d52e4fd6-e966-4022-aa1f-3cce1d8663fd"
  },
  {
   "cell_type": "markdown",
   "metadata": {},
   "source": [
    "All preprocessing methods outperformed untransformed spectral data <a href=\"#tbl-preproc\" class=\"quarto-xref\">Table 2</a>. Averaged together, all preprocessed spectra were superior to untransformed spectra, with lower RMSE and higher R<sup>2</sup>, RPD and RPIQ values (significant at $\\alpha$ level \\<0.001). Preprocessing methods had 11.6 % lower RMSE, and had 3.1% higher R<sup>2</sup>, 6.3% higher RPD and7.4% higher RPIQ than unprocessed spectra. Preprocessed spectra also had lower standard errors than untransformed spectra.\n",
    "\n",
    "The SNV-SG method had the lowest RMSE and the highest R<sup>2</sup>, RPD and RPIQ averaging over all iterations. SNV-SG’s RMSE was 1.4% lower than the next best preprocessing method (SG), while SNV-SG’s R<sup>2</sup>, RPD, and RPIQ were 0.4%, 2.1%, and 2.4% higher than SG respectively. However, the differences between the best and second best methods by metric were only statistically significant at $\\alpha$ \\<0.05 for RPD and RPIQ. There is a long history of using RPD to evaluate chemometric models although the statistic has been criticized as inadequately reflecting the distribution of skewed populations, a situation which RPIQ was designed to address ([Bellon-Maurel et al., 2010](#ref-bellon-maurel_critical_2010)). Here the data were somewhat but not heavily skewed and RPD and RPIQ metrics were in agreement. The superiority of SNV-SG by these metrics made it the best choice for the final model."
   ],
   "id": "5ea809fc-a2dd-4223-afe3-4444693839b5"
  },
  {
   "cell_type": "code",
   "execution_count": null,
   "metadata": {},
   "outputs": [],
   "source": [
    "# printable table of results\n",
    "\n",
    "to_table2 <- to_table |> \n",
    "  mutate(`Preprocessing Method` = \n",
    "           case_match(`Preprocessing Method`,\n",
    "             \"Raw Spectra\"~ \"Untransformed Spectra\",\n",
    "             .default=`Preprocessing Method`\n",
    "           )) |> \n",
    "  select(1:3) |> \n",
    "  pivot_wider(names_from = Metric, values_from = Estimate) |> \n",
    "  arrange(rmse) |> \n",
    "  rename(RMSE = rmse, RPIQ = rpiq ) |> \n",
    "  select(1,2,3,5,4)\n",
    "# names(to_table2)[3] <- \"$^{2}$\"\n",
    "to_table2|> \n",
    "  knitr::kable(col.names = c(\"Preprocessing Method\", \"RMSE\",  \"$R^{2}$\",\"RPD\", \"RPIQ\"))"
   ],
   "id": "e2f6518a-e0e3-49a6-9f70-b412d919ee02"
  },
  {
   "cell_type": "markdown",
   "metadata": {},
   "source": [
    "These results are not surprising. SNV and SNV-detrend both correct light scatter, which is often a function of differences in particle size and sample packing density, although SNV-detrend is often used for densely-packed, powdered samples ([Barnes et al., 1989](#ref-barnes_standard_1989)). SG is a smoothing filter that regresses on the signal over a series of windows, removing noise while preserving the signal’s shape and features ([Li et al., 2020](#ref-li_quantitative_2020); [Luo et al., 2005](#ref-luo_properties_2005)). Derivatives, here including SG, gap-segment, and first derivatives pretreatments may remove additive and multiplicative effects, but not necessarily light scatter; as well, derivatives may increase spectral noise ([Rinnan et al., 2009](#ref-rinnan_review_2009)). Here, hemp grain was neither powdered nor densely packed but samples were subject to light scatter and noise due to differences in particle size in the hemp grain.\n",
    "\n",
    "The preprocessing methods examined represent a portion of those available. As well, these methods tend to have a number of user-adjustable parameters whose various permutations were not tested. This subset of preprocessing methods and parameters nonetheless contained substantial variations in model quality, demonstrating the importance of selecting an appropriate preprocessing method.\n",
    "\n",
    "### 3.3 Final model development and summary"
   ],
   "id": "8585663d-6c41-4d54-aae3-02b8f6c2c968"
  },
  {
   "cell_type": "code",
   "execution_count": null,
   "metadata": {},
   "outputs": [],
   "source": [
    "model_n_comp_statistics <- fread(\"./input_data/final_data_set/final_model_n_component_stats.csv\")\n",
    "\n",
    "# define a function to calculate percent difference\n",
    "pct_lower <- function(x){\n",
    "  my_lag = data.table::shift(x, type = \"lag\")\n",
    "  round((x - my_lag)/my_lag*100,2)\n",
    "}\n",
    "\n",
    "avg_change <- model_n_comp_statistics[,lapply(.SD, mean),.SDcols = 3:8, by= ncomp]\n",
    "\n",
    "change_per_pc <- avg_change[, lapply(.SD, pct_lower), .SDcols = 2:7]"
   ],
   "id": "1b4303a3-c893-4ebd-bb65-87ec9a3a897a"
  },
  {
   "cell_type": "markdown",
   "metadata": {},
   "source": [
    "The model improved most rapidly as the number of components increased from 1 to 7, with the inclusion of each additional component being associated with a decrease in RMSE of 5-12% . From 8 to 12 components, model performance continued to improve, although gains were more modest (there was a decrease in RMSE of 0.7-3% with the inclusion of each additional component). With 13 or more components, performance gains were minimal and the relative ranks of the models tended to be stable <a href=\"#fig-model-calibration\" class=\"quarto-xref\">Figure 1</a>."
   ],
   "id": "29372598-8e1c-4552-9d9a-af975752ffd9"
  },
  {
   "cell_type": "code",
   "execution_count": null,
   "metadata": {},
   "outputs": [
    {
     "output_type": "display_data",
     "metadata": {},
     "data": {}
    }
   ],
   "source": [
    "model_n_comp_statistics |> \n",
    "  ggplot(aes(as.factor(ncomp), RMSE)) + \n",
    "  geom_line(aes(group = id), alpha = 0.03) + \n",
    "  theme_classic() + \n",
    "  xlab(\"Crude Protein Model Number of Components\") + \n",
    "  ylab(\"Crude Protein Model Root Mean Squared Error\")"
   ],
   "id": "cell-fig-model-calibration"
  },
  {
   "cell_type": "code",
   "execution_count": null,
   "metadata": {},
   "outputs": [],
   "source": [
    "model_final_predictions <- fread(\"./input_data/final_data_set/final_model_predictions.csv\")\n",
    "\n",
    "final_model_table <- model_final_predictions |> \n",
    "  group_by(id) |> \n",
    "  multi_metric(crude_protein, predicted_crude_protein) |> setDT()"
   ],
   "id": "e8a2934b-d091-44d9-ac4e-b6443332b11c"
  },
  {
   "cell_type": "code",
   "execution_count": null,
   "metadata": {},
   "outputs": [],
   "source": [
    "# make a final model table that spreads wide\n",
    "\n",
    "ft2 <- final_model_table[,.estimator:=NULL] |> dcast(id~.metric, value.var = \".estimate\")\n",
    "\n",
    "corr_coeffs <- cor(ft2[,2:5])\n",
    "\n",
    "# id the very worst fits.\n",
    "low_cor_ids <- ft2[rsq<0.7,]$id\n",
    "\n",
    "\n",
    "great_mods <- ft2[rpd>3&rpiq>4.1&rsq>0.8,]\n",
    "\n",
    "good_mods <- ft2[rpd>2.5&rpd<3&rpiq<4.1&rpiq>2.3&rsq>0.8,]\n",
    "\n",
    "ok_mods <- ft2[rpd>2.0&rpd<2.5&rpiq>2.3,]\n",
    "\n",
    "poor_but_functional <-  ft2[rpd>1.5&rpd<2,]\n",
    "\n",
    "all_mods <- list(great_mods, good_mods, ok_mods, poor_but_functional)\n",
    "\n",
    "full_sum <- lapply(all_mods, nrow)"
   ],
   "id": "1a5fbd35-4ed3-4229-8593-9bf7e995b483"
  },
  {
   "cell_type": "markdown",
   "metadata": {},
   "source": [
    "The final models performances on the test sets were similar, but not identical to, those obtained during the initial comparison of preprocessing methods. The final models’ mean RMSE was 1.03, R<sup>2</sup> was 0.83, RPD was 2.44, and RPIQ was 3.89. Five percent of the models were excellent by both metrics, with RPD \\> 3 and RPIQ \\> 4.1, while an additional 11% of the models were “good” by both metrics (RPD range from 2.5 - 3.0, RPIQ range from 2.3 - 4.1). Forty-nine percent of the models had the ability to approximate quantitative prediction (RPD range from 2.0 - 2.5), and 9% of the models were able to distinguish between higher and lower %CP values (RPD range from 1.5 - 2.0). Therefore, 74% of the models generated here had, at minimum, the ability to distinguish between high and low values with with two thirds of them having, at minimum, the ability to approximate quantitative prediction. Despite the generally good model performance, a subset of poor models can be seen. For example, <a href=\"#fig-final-metric-boxplot\" class=\"quarto-xref\">Figure 2</a> shows twenty-one models with R<sup>2</sup> below 0.7."
   ],
   "id": "a71ac393-9e9f-4cef-929e-0f3b0f48ed81"
  },
  {
   "cell_type": "code",
   "execution_count": null,
   "metadata": {},
   "outputs": [],
   "source": [
    "skim_metrics <- final_model_table |> \n",
    "  group_by(.metric) |> \n",
    "  skimr::skim()"
   ],
   "id": "9c914544-6bf8-48a3-a782-5951aab97a2f"
  },
  {
   "cell_type": "code",
   "execution_count": null,
   "metadata": {},
   "outputs": [
    {
     "output_type": "display_data",
     "metadata": {},
     "data": {}
    }
   ],
   "source": [
    "# setnames(model_final_predictions, \"V1\", \"crude_protein\")\n",
    "\n",
    "\n",
    "\n",
    "final_model_table |>\n",
    "  mutate(metric2 = toupper(.metric)) |> \n",
    "  ggplot(aes(x = .metric, y = .estimate)) + \n",
    "  theme_classic() + geom_boxplot() + \n",
    "  facet_wrap(nrow = 1,vars(factor(metric2, levels = c(\"RMSE\", \"RSQ\",\"RPD\", \"RPIQ\"))), scales = \"free\") +\n",
    "  xlab(\"Metric\") + ylab(\"Estimate\")+\n",
    "  theme(\n",
    "    axis.title.x = element_blank(),\n",
    "    axis.text.x = element_blank(),\n",
    "    axis.ticks.x = element_blank())"
   ],
   "id": "cell-fig-final-metric-boxplot"
  },
  {
   "cell_type": "code",
   "execution_count": null,
   "metadata": {},
   "outputs": [],
   "source": [
    "# add difference calculation between predicted and observed...\n",
    "model_final_predictions[,difference := predicted_crude_protein - crude_protein]"
   ],
   "id": "1a8a8532-fa31-47ce-9ca8-f189154c9c0a"
  },
  {
   "cell_type": "code",
   "execution_count": null,
   "metadata": {},
   "outputs": [],
   "source": [
    "# my_cut <- cut(spectra_2$crude_protein, 3)\n",
    "# cut_dt <- data.table(ith_in_data_set = 1:149, cutpoints = my_cut)\n",
    "\n",
    "\n",
    "# revised_model_cutpoints\n",
    "cutpoints2 <- model_final_predictions |> \n",
    "  distinct(ith_in_data_set, crude_protein) |> \n",
    "  mutate(cutpoints = cut(crude_protein, 3)) |> \n",
    "  arrange(crude_protein) |> \n",
    "  mutate(plot_order = 1:n())"
   ],
   "id": "b2af5e8a-0c4b-4bc7-aa29-96b0dfb72ce6"
  },
  {
   "cell_type": "code",
   "execution_count": null,
   "metadata": {},
   "outputs": [],
   "source": [
    "data_sum_by_sample <- model_final_predictions[,lapply(.SD, mean), .SDcols = c(\"crude_protein\", \"difference\"), by = \"ith_in_data_set\"]\n",
    "setorder(data_sum_by_sample, crude_protein)\n",
    "temp_dat <- copy(data_sum_by_sample)\n",
    "# create temporary ith\n",
    "temp_dat[,tmp_ith:= 1:.N]\n",
    "min_val <- min(temp_dat$crude_protein)\n",
    "# center this\n",
    "temp_dat[,adj_cp:= crude_protein - min_val]\n",
    "\n",
    "lm_mod <- lm(difference~adj_cp, data = temp_dat) \n",
    "lm_mod_sum <- summary(lm_mod)\n",
    "\n",
    "coefs <- coef(lm_mod)\n",
    "\n",
    "preds <- predict(lm_mod, temp_dat)\n",
    "ds_preds <- temp_dat[,c(\"ith_in_data_set\")] |> cbind(preds)\n",
    "\n",
    "ds_cutpoints <- merge(ds_preds, cutpoints2)\n",
    "setorder(ds_cutpoints, plot_order)"
   ],
   "id": "24c21ed6-9467-40e9-849e-0641761bff9c"
  },
  {
   "cell_type": "code",
   "execution_count": null,
   "metadata": {},
   "outputs": [],
   "source": [
    "sd_mod <- model_final_predictions[,list(sd_diff = sd(difference), crude_protein = mean(crude_protein)), by = \"ith_in_data_set\"]\n",
    "setorder(sd_mod, crude_protein)\n",
    "temp_dat_sd <- copy(sd_mod)\n",
    "# create temporary ith\n",
    "temp_dat_sd[,tmp_ith:= 1:.N]\n",
    "min_val_sd <- min(temp_dat_sd$crude_protein)\n",
    "# center this\n",
    "temp_dat_sd[,adj_cp:= crude_protein - min_val]\n",
    "\n",
    "lm_mod_sd <- lm(sd_diff~adj_cp, data = temp_dat_sd) "
   ],
   "id": "3b399433-04cf-4add-be06-fd2a20ed5021"
  },
  {
   "cell_type": "code",
   "execution_count": null,
   "metadata": {},
   "outputs": [],
   "source": [
    "# look at worst samples info...\n",
    "\n",
    "worst_preds <- model_final_predictions[id%in%low_cor_ids]\n",
    "\n",
    "worst <- worst_preds[,.N, by = ith_in_data_set][order(N, decreasing = T)][N>8]\n",
    "\n",
    "troubles <- merge(worst, full_data[,1:7], all.x = T)"
   ],
   "id": "d4689571-35d0-48a6-b14c-9b4108e57427"
  },
  {
   "cell_type": "code",
   "execution_count": null,
   "metadata": {},
   "outputs": [],
   "source": [
    "cts <- ds_cutpoints[,mean(preds), by=cutpoints]"
   ],
   "id": "0606bab9-38ac-46ac-ae99-771c0ea4790c"
  },
  {
   "cell_type": "markdown",
   "metadata": {},
   "source": [
    "Finally, the pattern of test set errors was examined on a per-sample basis by calculating the difference between the actual and predicted values for the samples in the test sets <a href=\"#fig-validation_set_performance\" class=\"quarto-xref\">Figure 3</a> . A linear model was fit considering the mean estimated error for each sample where that sample was in the test set as compared to the sample’s actual value. The models overestimated %CP by approximately 0.5 % in the lowest tertile and underestimated %CP by -0.01 % and -0.41 % in the middle and highest tertile, respectively. The variance of the errors did not increase appreciably as %CP increased."
   ],
   "id": "c20db6b0-9eb3-4afb-935f-a42435b79455"
  },
  {
   "cell_type": "code",
   "execution_count": null,
   "metadata": {},
   "outputs": [
    {
     "output_type": "stream",
     "name": "stderr",
     "text": [
      "Joining with `by = join_by(crude_protein, ith_in_data_set)`"
     ]
    },
    {
     "output_type": "display_data",
     "metadata": {},
     "data": {}
    }
   ],
   "source": [
    "# \n",
    "\n",
    "model_final_predictions |> \n",
    "  left_join(cutpoints2) |> \n",
    "  arrange(plot_order) |> \n",
    "  ggplot(aes(plot_order, crude_protein))+\n",
    "  geom_point(aes(plot_order, difference), alpha = 0.05, shape = 2) +\n",
    "  geom_hline(yintercept = 0, linewidth = 2, lty = 2) +\n",
    "  geom_point(data = ds_cutpoints, aes(plot_order, preds), shape = 3)+\n",
    "  facet_wrap( ~cutpoints, scales = \"free_x\",\n",
    "              labeller = as_labeller(c(\"(20.8,24.1]\" = \"Low CP (20.8 - 24.1%)\",\n",
    "                                       \"(24.1,27.5]\"= \"Medium CP (24.2 - 27.5%)\",\n",
    "                                       \"(27.5,30.8]\" =\"High CP (27.6-30.8%)\")))+ \n",
    "  ylab(\"Crude Protein Predicted Percent Difference\\nfrom Assayed Value\")+\n",
    "  theme_classic()+\n",
    "  theme(\n",
    "    axis.title.x = element_blank(),\n",
    "    axis.text.x = element_blank(),\n",
    "    axis.ticks.x = element_blank()) "
   ],
   "id": "cell-fig-validation_set_performance"
  },
  {
   "cell_type": "code",
   "execution_count": null,
   "metadata": {},
   "outputs": [],
   "source": [
    "# look\n",
    "# read in stuff for supplemental table first\n",
    "supp_tab <- fread(\"./input_data/final_data_set/cultivar_table_clean.csv\")\n",
    "\n",
    "# read in correct location key\n",
    "locs2 <- fread(\"./input_data/final_data_set/corrected_location_key.csv\")\n",
    "\n",
    "# sort highest and lowest samples...\n",
    "td2 <- temp_dat[order(abs(difference))]\n",
    "\n",
    "# sort highest and lowest\n",
    "td3 <- td2[!c(16:134),][,grouping:=rep(c(\"best_predicted_10pct\", \"worst_predicted_10_pct\"), each = 15)]\n",
    "\n",
    "# incorporate background\n",
    "\n",
    "td4_bckgrd <- merge(td3, full_data[,1:7], all.x = T)\n",
    "\n",
    "td_5 <- merge( td4_bckgrd,locs2, by.y =\"loc\", by.x= 'loc', all.x = T)\n",
    "\n",
    "\n",
    "# make a prop table.\n",
    "td_5_table <-  with(td_5, table(grouping, loc2))\n",
    "\n",
    "test_for_errors <- merge( merge(td2, full_data[,1:7], all.x = T),locs2, by.y =\"loc\", by.x= 'loc', all.x = T)\n",
    "\n",
    "error_mod <- lm(abs(difference)~loc2, data = test_for_errors)\n",
    "\n",
    "error_by_loc <- emmeans::emmeans(error_mod, \"loc2\") |> multcomp::cld()"
   ],
   "id": "c76a420f-81bb-414d-b596-2ca007d690f3"
  },
  {
   "cell_type": "markdown",
   "metadata": {},
   "source": [
    "The 15 (10%) best and 15 worst predicted samples as measured by the mean absolute error of prediction were identified and their backgrounds examined. Overall, half of the samples in the data set came from Ithaca, NY (“Ithaca”), while 28% were collected from Geneva, NY (“Geneva”) <a href=\"#tbl-hemp_provenance\" class=\"quarto-xref\">Table 3</a>. However, of the 15 worst-predicted samples, 9 were from Geneva, while 3 of the 15 best-predicted samples were from Geneva (by contrast, 7 of the best-predicted and 5 of the worst-predicted samples came from Ithaca). Overall, samples from Geneva had the highest mean absolute error of prediction among locations, 61% greater than samples from Ithaca and 155% greater than samples from Freeville, NY (the only locations with more than 20 samples).\n",
    "\n",
    "This study is limited in that it represents the creation of one model based upon spectra collected from one machine. NIRS calibrations can be unique to a particular machine, even if the machines compared are of the same model ([Reeves, 2012](#ref-reeves_potential_2012)). As well, the calibration and validation sets are relatively small.\n",
    "\n",
    "This research showed the promise of the use of NIRS in order to make predictions concerning %CP in hemp grain using PLS. Promising preprocessing methods were identified and a model was validated. Further research could refine a %CP model by including more samples, particularly by rectifying the class imbalance between Geneva and Ithaca, identifying promising spectral regions, or by examining other predictive methods.\n",
    "\n",
    "## 4 ACKNOWLEDGMENTS\n",
    "\n",
    "This work would not have been possible without the efforts of the field staff, undergraduate, and graduate students who planted, maintained, monitored and harvested these trials.\n",
    "\n",
    "## 5 CONFLICT OF INTEREST\n",
    "\n",
    "The authors declare no conflict of interest.\n",
    "\n",
    "## 6 ORCID\n",
    "\n",
    "## 7 SUPPLEMENTAL MATERIAL"
   ],
   "id": "d4690456-22b0-44f5-9a3a-cf652054dfcf"
  },
  {
   "cell_type": "code",
   "execution_count": null,
   "metadata": {},
   "outputs": [],
   "source": [
    "supp_tab2 <- copy(supp_tab)\n",
    "\n",
    "supp_tab2[,Cultivar:=toupper(cultivar2)]\n",
    "names(supp_tab2) <- str_to_title(names(supp_tab2))\n",
    "# get one that's sortable\n",
    "st3 <- supp_tab2[,c(8,2:7)]\n",
    "options(knitr.kable.NA = '')\n",
    "knitr::kable(st3)"
   ],
   "id": "f7b7f7e6-a096-4bae-9a50-22cf770f6c2e"
  },
  {
   "cell_type": "markdown",
   "metadata": {},
   "source": [
    "## 8 OPTIONAL SECTIONS\n",
    "\n",
    "## 9 REFERENCES\n",
    "\n",
    "## 10 FIGURES AND TABLES\n",
    "\n",
    "Barnes, R. J., Dhanoa, M. S., & Lister, S. J. (1989). Standard Normal Variate Transformation and De-Trending of Near-Infrared Diffuse Reflectance Spectra. *Applied Spectroscopy*, *43*(5), 772–777. <https://doi.org/10.1366/0003702894202201>\n",
    "\n",
    "Barrett, T., Dowle, M., Srinivasan, A., Gorecki, J., Chirico, M., & Hocking, T. (2024). *<span class=\"nocase\">data.table</span>: Extension of “<span class=\"nocase\">data.frame</span>”*. <https://CRAN.R-project.org/package=data.table>\n",
    "\n",
    "Bárta, J., Roudnický, P., Jarošová, M., Zdráhal, Z., Stupková, A., Bártová, V., Krejčová, Z., Kyselka, J., Filip, V., Říha, V., Lorenc, F., Bedrníček, J., & Smetana, P. (2024). Proteomic Profiles of Whole Seeds, Hulls, and Dehulled Seeds of Two Industrial Hemp (Cannabis sativa L.) Cultivars. *Plants*, *13*(1), 111. <https://doi.org/10.3390/plants13010111>\n",
    "\n",
    "Bellon-Maurel, V., Fernandez-Ahumada, E., Palagos, B., Roger, J.-M., & McBratney, A. (2010). Critical review of chemometric indicators commonly used for assessing the quality of the prediction of soil attributes by NIR spectroscopy. *TrAC Trends in Analytical Chemistry*, *29*(9), 1073–1081. <https://doi.org/10.1016/j.trac.2010.05.006>\n",
    "\n",
    "Callaway, J. C. (2004). Hempseed as a nutritional resource: An overview. *Euphytica*, *140*(1), 65–72. <https://doi.org/10.1007/s10681-004-4811-6>\n",
    "\n",
    "Chadalavada, K., Anbazhagan, K., Ndour, A., Choudhary, S., Palmer, W., Flynn, J. R., Mallayee, S., Pothu, S., Prasad, K. V. S. V., Varijakshapanikar, P., Jones, C. S., & Kholová, J. (2022). NIR Instruments and Prediction Methods for Rapid Access to Grain Protein Content in Multiple Cereals. *Sensors (Basel, Switzerland)*, *22*(10). <https://doi.org/10.3390/s22103710>\n",
    "\n",
    "Ely, K., & Fike, J. (2022). Industrial Hemp and Hemp Byproducts as Sustainable Feedstuffs in Livestock Diets. In D. C. Agrawal, R. Kumar, & M. Dhanasekaran (Eds.), *Cannabis/Hemp for Sustainable Agriculture and Materials* (pp. 145–162). Springer. <https://doi.org/10.1007/978-981-16-8778-5_6>\n",
    "\n",
    "Garrido-Varo, A., Garcia-Olmo, J., & Fearn, T. (2019). A note on Mahalanobis and related distance measures in WinISI and The Unscrambler. *Journal of Near Infrared Spectroscopy*, *27*(4), 253–258. <https://doi.org/10.1177/0967033519848296>\n",
    "\n",
    "Geyer, M., Mohler, V., & Hartl, L. (2022). Genetics of the Inverse Relationship between Grain Yield and Grain Protein Content in Common Wheat. *Plants*, *11*(16), 2146. <https://doi.org/10.3390/plants11162146>\n",
    "\n",
    "Giancaspro, A., Giove, S. L., Blanco, A., & Gadaleta, A. (2019). Genetic Variation for Protein Content and Yield-Related Traits in a Durum Population Derived From an Inter-Specific Cross Between Hexaploid and Tetraploid Wheat Cultivars. *Frontiers in Plant Science*, *10*. <https://doi.org/10.3389/fpls.2019.01509>\n",
    "\n",
    "Hayes, M. (2020). Measuring Protein Content in Food: An Overview of Methods. *Foods*, *9*(10), 1340. <https://doi.org/10.3390/foods9101340>\n",
    "\n",
    "Kuhn, M., & Wickham, H. (2020). *Tidymodels: A collection of packages for modeling and machine learning using tidyverse principles.* <https://www.tidymodels.org>\n",
    "\n",
    "Kuhn, & Max. (2008). Building predictive models in r using the caret package. *Journal of Statistical Software*, *28*(5), 1–26. <https://doi.org/10.18637/jss.v028.i05>\n",
    "\n",
    "Lenth, R. V. (2024). *<span class=\"nocase\">emmeans</span>: Estimated marginal means, aka least-squares means*. <https://CRAN.R-project.org/package=emmeans>\n",
    "\n",
    "Li, Y., Huang, Y., Xia, J., Xiong, Y., & Min, S. (2020). Quantitative analysis of honey adulteration by spectrum analysis combined with several high-level data fusion strategies. *Vibrational Spectroscopy*, *108*, 103060. <https://doi.org/10.1016/j.vibspec.2020.103060>\n",
    "\n",
    "Liland, K. H., Mevik, B.-H., & Wehrens, R. (2023). *<span class=\"nocase\">pls</span>: Partial least squares and principal component regression*. <https://CRAN.R-project.org/package=pls>\n",
    "\n",
    "Luce, M. S., Ziadi, N., Gagnon, B., & Lévesque, V. (2017). Prediction of total carbon, total nitrogen, and <span class=\"nocase\">pH</span> of organic materials using visible near-infrared reflectance spectroscopy. *Canadian Journal of Soil Science*, *98*(1), 175–179. <https://doi.org/10.1139/cjss-2017-0109>\n",
    "\n",
    "Luo, J., Ying, K., He, P., & Bai, J. (2005). Properties of Savitzky–Golay digital differentiators. *Digital Signal Processing*, *15*(2), 122–136. <https://doi.org/10.1016/j.dsp.2004.09.008>\n",
    "\n",
    "Pinheiro, J. C., & Bates, D. M. (2000). *Mixed-effects models in s and s-PLUS*. Springer. <https://doi.org/10.1007/b98882>\n",
    "\n",
    "Pinheiro, J., Bates, D., & R Core Team. (2023). *<span class=\"nocase\">nlme</span>: Linear and nonlinear mixed effects models*. <https://CRAN.R-project.org/package=nlme>\n",
    "\n",
    "R Core Team. (2024). *R: A language and environment for statistical computing*. R Foundation for Statistical Computing. <https://www.R-project.org/>\n",
    "\n",
    "Rawal, A., Hartemink, A., Zhang, Y., Wang, Y., Lankau, R. A., & Ruark, M. D. (2024). Visible and near-infrared spectroscopy predicted leaf nitrogen contents of potato varieties under different growth and management conditions. *Precision Agriculture*, *25*(2), 751–770. <https://doi.org/10.1007/s11119-023-10091-z>\n",
    "\n",
    "Reeves, J. B. (2012). Potential of Near- and Mid-infrared Spectroscopy in Biofuel Production. *Communications in Soil Science and Plant Analysis*, *43*(1-2), 478–495. <https://doi.org/10.1080/00103624.2012.641844>\n",
    "\n",
    "Rinnan, Å., Berg, F. van den, & Engelsen, S. B. (2009). Review of the most common pre-processing techniques for near-infrared spectra. *TrAC Trends in Analytical Chemistry*, *28*(10), 1201–1222. <https://doi.org/10.1016/j.trac.2009.07.007>\n",
    "\n",
    "Roberts, C. A., Workman, J., & Reeves, J. B. (2004). *Near-infrared spectroscopy in agriculture*. American Society of Agronomy.\n",
    "\n",
    "Stevens, A., & Ramirez-Lopez, L. (2024). *An introduction to the prospectr package*.\n",
    "\n",
    "Waring, E., Quinn, M., McNamara, A., Arino de la Rubia, E., Zhu, H., & Ellis, S. (2022). *<span class=\"nocase\">skimr</span>: Compact and flexible summaries of data*. <https://CRAN.R-project.org/package=skimr>\n",
    "\n",
    "Wickham, H., Averick, M., Bryan, J., Chang, W., McGowan, L. D., François, R., Grolemund, G., Hayes, A., Henry, L., Hester, J., Kuhn, M., Pedersen, T. L., Miller, E., Bache, S. M., Müller, K., Ooms, J., Robinson, D., Seidel, D. P., Spinu, V., … Yutani, H. (2019). Welcome to the <span class=\"nocase\">tidyverse</span>. *Journal of Open Source Software*, *4*(43), 1686. <https://doi.org/10.21105/joss.01686>\n",
    "\n",
    "Williams, P. C. (1975). Application of near infrared reflectance spectroscopy to analysis of cereal grains and oilseeds. *Cereal Chemistry*, *52*(4 p.561-576), 576–561.\n",
    "\n",
    "Wold, S., Sjöström, M., & Eriksson, L. (2001). PLS-regression: A basic tool of chemometrics. *Chemometrics and Intelligent Laboratory Systems*, *58*(2), 109–130. <https://doi.org/10.1016/S0169-7439(01)00155-1>"
   ],
   "id": "66a9bed5-8873-409c-81e6-7bf597fdbd58"
  }
 ],
 "nbformat": 4,
 "nbformat_minor": 5,
 "metadata": {}
}
